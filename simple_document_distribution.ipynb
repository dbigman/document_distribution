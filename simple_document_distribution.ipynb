{
 "cells": [
  {
   "cell_type": "code",
   "execution_count": 1,
   "metadata": {},
   "outputs": [],
   "source": [
    "import os\n",
    "import pandas as pd"
   ]
  },
  {
   "cell_type": "code",
   "execution_count": 2,
   "metadata": {},
   "outputs": [
    {
     "name": "stdout",
     "output_type": "stream",
     "text": [
      "                                           File Name\n",
      "0   MAINTENANCE, REPAIRER FACTORY.0311 Converted.doc\n",
      "1  P.O.233808  GASCO- ORDEN SURTIDA PEND. A CONFI...\n",
      "2  P.O.233809 CASCO- UNICAS ORDENES PENDIENTE CON...\n",
      "3  P.O.234067  GASCO- BACK ORDER NUEVO SURTIDO- P...\n",
      "4  P.O.234258 GASCO- ORDEN ALCOHOL 4-1ga. PARA RE...\n",
      "5  P.O.234258 Y 234322  ORDENES PENDIENTE POR DES...\n"
     ]
    }
   ],
   "source": [
    "# specify the directory you want to list\n",
    "directory = 'test_docx'\n",
    "\n",
    "# list all files in the directory\n",
    "files = os.listdir(directory)\n",
    "\n",
    "# create a dataframe from the list of files\n",
    "df = pd.DataFrame(files, columns=['File Name'])\n",
    "\n",
    "print(df)"
   ]
  },
  {
   "cell_type": "code",
   "execution_count": null,
   "metadata": {},
   "outputs": [],
   "source": []
  }
 ],
 "metadata": {
  "kernelspec": {
   "display_name": "Python 3",
   "language": "python",
   "name": "python3"
  },
  "language_info": {
   "codemirror_mode": {
    "name": "ipython",
    "version": 3
   },
   "file_extension": ".py",
   "mimetype": "text/x-python",
   "name": "python",
   "nbconvert_exporter": "python",
   "pygments_lexer": "ipython3",
   "version": "3.10.10"
  },
  "orig_nbformat": 4
 },
 "nbformat": 4,
 "nbformat_minor": 2
}
